{
 "cells": [
  {
   "cell_type": "code",
   "execution_count": 2,
   "id": "5df78288-09a0-4a43-9b78-ce5cec0c2586",
   "metadata": {},
   "outputs": [
    {
     "name": "stdout",
     "output_type": "stream",
     "text": [
      "140729232065736\n",
      "140729232066056\n"
     ]
    }
   ],
   "source": [
    "#list\n",
    "#collect multiple value together\n",
    "#,\n",
    "#mutable-- value change ke sakte ho\n",
    "#index position data access\n",
    "a=10\n",
    "print(id(a))\n",
    "a=20\n",
    "print(id(a))"
   ]
  },
  {
   "cell_type": "code",
   "execution_count": 4,
   "id": "89f63235-0281-4fc7-af19-4c1bca4a2dd0",
   "metadata": {},
   "outputs": [
    {
     "name": "stdout",
     "output_type": "stream",
     "text": [
      "[12, 22, 43, 23, 56, 74, 3]\n"
     ]
    }
   ],
   "source": [
    "\n",
    "type(a)\n",
    "a[1]=22\n",
    "print(a)\n"
   ]
  },
  {
   "cell_type": "code",
   "execution_count": 5,
   "id": "b4b52ba0-ef25-4e22-900e-8c645585a653",
   "metadata": {},
   "outputs": [],
   "source": [
    "#append\n",
    "#extend(iterable)\n",
    "#insert\n",
    "#pop\n",
    "#sort"
   ]
  },
  {
   "cell_type": "code",
   "execution_count": 8,
   "id": "14a4952f-1263-474c-b26c-9e0b203b8114",
   "metadata": {},
   "outputs": [
    {
     "name": "stdout",
     "output_type": "stream",
     "text": [
      "0 12\n",
      "1 455\n",
      "2 43\n",
      "3 23\n",
      "4 56\n",
      "5 74\n",
      "6 3\n"
     ]
    }
   ],
   "source": [
    "a=[12,455,43,23,56,74,3]\n",
    "for i in range(len(a)):\n",
    "    print(i,a[i])"
   ]
  },
  {
   "cell_type": "code",
   "execution_count": 12,
   "id": "1baccb94-e00e-4f38-b380-99ba0ebd2889",
   "metadata": {},
   "outputs": [
    {
     "name": "stdout",
     "output_type": "stream",
     "text": [
      "239\n",
      "54\n",
      "533\n"
     ]
    }
   ],
   "source": [
    "data=[12,239,34,54,34,533]\n",
    "target=34 \n",
    "for i in range(0,len(data)):\n",
    "    if(data[i]>target):\n",
    "        print(data[i])\n"
   ]
  },
  {
   "cell_type": "code",
   "execution_count": 13,
   "id": "e99b1b29-2514-4689-ae7b-3be51d3b437e",
   "metadata": {},
   "outputs": [
    {
     "name": "stdout",
     "output_type": "stream",
     "text": [
      "533\n"
     ]
    }
   ],
   "source": [
    "data=[12,239,34,54,34,533]\n",
    "max=0\n",
    "for i in range(0,len(data)):\n",
    "    if(data[i]>max):\n",
    "       max=data[i]\n",
    "      \n",
    "print(data[i])"
   ]
  },
  {
   "cell_type": "code",
   "execution_count": 21,
   "id": "4327b0a6-6165-4d36-8ca4-5d3711eafe29",
   "metadata": {},
   "outputs": [
    {
     "name": "stdout",
     "output_type": "stream",
     "text": [
      "second 0 first 12\n",
      "second 12 first 239\n",
      "second 239 first 533\n",
      "533 239\n"
     ]
    }
   ],
   "source": [
    "data=[12,239,34,54,34,533]\n",
    "max1=0\n",
    "max2=0\n",
    "for i in range(0,len(data)):\n",
    "    if(data[i]>max1):\n",
    "        max2=max1\n",
    "        max1=data[i]\n",
    "        print(\"second\",max2,\"first\",max1)\n",
    "print(max1,max2)"
   ]
  },
  {
   "cell_type": "code",
   "execution_count": 35,
   "id": "4aa39fee-14d7-417a-8bda-f80ad357d6dc",
   "metadata": {},
   "outputs": [
    {
     "name": "stdout",
     "output_type": "stream",
     "text": [
      "10\n",
      "duplicate element 10\n",
      "20\n",
      "duplicate element 20\n",
      "30\n",
      "40\n",
      "10\n",
      "50\n",
      "20\n"
     ]
    }
   ],
   "source": [
    "mylist=[10,20,30,40,10,50,20]\n",
    "for i in range(0,len(mylist)):\n",
    "    print(mylist[i])\n",
    "    \n",
    "    for j in range(i+1,len(mylist)):\n",
    "        if(mylist[i]==mylist[j]):\n",
    "            print(\"duplicate element\",mylist[i])\n",
    "    "
   ]
  },
  {
   "cell_type": "code",
   "execution_count": 42,
   "id": "bb7292c2-b3ae-41ce-81da-37b5368041c4",
   "metadata": {},
   "outputs": [
    {
     "name": "stdout",
     "output_type": "stream",
     "text": [
      "False\n",
      "not valid\n",
      "False\n",
      "not valid\n",
      "False\n",
      "not valid\n",
      "True\n",
      "not valid\n",
      "False\n",
      "not valid\n",
      "False\n",
      "not valid\n",
      "False\n",
      "not valid\n",
      "False\n",
      "not valid\n",
      "False\n",
      "not valid\n",
      "True\n",
      "not valid\n",
      "False\n",
      "not valid\n",
      "False\n",
      "not valid\n",
      "False\n",
      "not valid\n",
      "False\n",
      "not valid\n",
      "False\n",
      "not valid\n",
      "True\n",
      "not valid\n",
      "False\n",
      "not valid\n",
      "False\n",
      "not valid\n",
      "False\n",
      "not valid\n",
      "False\n",
      "not valid\n",
      "True\n",
      "not valid\n",
      "True\n",
      "not valid\n",
      "False\n",
      "not valid\n",
      "False\n",
      "not valid\n",
      "False\n",
      "not valid\n",
      "True\n",
      "not valid\n",
      "False\n",
      "not valid\n",
      "False\n",
      "not valid\n",
      "False\n",
      "not valid\n",
      "False\n",
      "not valid\n",
      "False\n",
      "not valid\n",
      "True\n",
      "not valid\n",
      "False\n",
      "not valid\n",
      "False\n",
      "not valid\n",
      "False\n",
      "not valid\n",
      "False\n",
      "not valid\n",
      "False\n",
      "not valid\n",
      "False\n",
      "not valid\n",
      "False\n",
      "not valid\n",
      "False\n",
      "not valid\n",
      "False\n",
      "not valid\n",
      "False\n",
      "not valid\n",
      "False\n",
      "not valid\n",
      "False\n",
      "not valid\n",
      "True\n",
      "not valid\n",
      "False\n",
      "not valid\n",
      "False\n",
      "not valid\n",
      "False\n",
      "not valid\n",
      "False\n",
      "not valid\n"
     ]
    }
   ],
   "source": [
    "mylist=[10,20,30,40,10,50,20]\n",
    "target=50\n",
    "for i in range(0,len(mylist)):\n",
    "    \n",
    "    for j in range(0,len(mylist)):\n",
    "        if( print(mylist[j]+mylist[i]==target)):\n",
    "            print(mylist[i],mylist[j])\n",
    "        else:\n",
    "            print(\"not valid\")\n",
    "        "
   ]
  },
  {
   "cell_type": "code",
   "execution_count": 44,
   "id": "37c1ef21-8358-461a-9388-74d743a42c6c",
   "metadata": {},
   "outputs": [
    {
     "name": "stdout",
     "output_type": "stream",
     "text": [
      "<class 'tuple'>\n"
     ]
    }
   ],
   "source": [
    "#tuple\n",
    "#datatupe,collect\n",
    "#immutale\n",
    "#index position\n",
    "#count\n",
    "#index \n",
    "a=(10,20,30,\"gjfdfg\")\n",
    "print(type(a))\n"
   ]
  },
  {
   "cell_type": "code",
   "execution_count": 45,
   "id": "21655893-a94c-4f08-b1a2-894bcb02e092",
   "metadata": {},
   "outputs": [],
   "source": [
    "mytuple=(10,493,44,56,359)"
   ]
  },
  {
   "cell_type": "code",
   "execution_count": 3,
   "id": "ad667dba-e008-4714-9a92-d7fa6d234c36",
   "metadata": {},
   "outputs": [
    {
     "name": "stdout",
     "output_type": "stream",
     "text": [
      "{'total': 0, 'e': 2, 'a': 1, 'i': 1, 'o': 1}\n"
     ]
    }
   ],
   "source": [
    "#dictionary \n",
    "myvowel={\"total\":0}\n",
    "for char in \"heyaioghke\":\n",
    "    if char in \"aeiou\":\n",
    "        if char not in myvowel:\n",
    "            myvowel[char]=1\n",
    "        else:\n",
    "            myvowel[char]+=1\n",
    "            \n",
    "       \n",
    "print(myvowel)\n",
    "        "
   ]
  },
  {
   "cell_type": "code",
   "execution_count": 17,
   "id": "f1bbd5b7-3e1d-4a99-b842-989fbae5f486",
   "metadata": {},
   "outputs": [
    {
     "name": "stdout",
     "output_type": "stream",
     "text": [
      "{10: 0, 20: 1, 30: 2, 40: 3, 50: 4}\n",
      "target is match 40 10\n",
      "target is match 30 20\n",
      "target is match 20 30\n",
      "target is match 10 40\n"
     ]
    }
   ],
   "source": [
    "mylist=[10,20,30,40,50]\n",
    "myvalue={}\n",
    "target=50\n",
    "#10:0,20:1,30:2,40:3,50:4\n",
    "for i in range(0,len(mylist)):\n",
    "    myvalue[mylist[i]]=i\n",
    "print(myvalue)\n",
    "for i in mylist:\n",
    "    x=target-i\n",
    "    if(x in myvalue):\n",
    "        print(\"target is match\",x,i)\n",
    "    "
   ]
  },
  {
   "cell_type": "code",
   "execution_count": 31,
   "id": "a83da088-3d5c-4314-9695-54856c6536e0",
   "metadata": {},
   "outputs": [
    {
     "name": "stdout",
     "output_type": "stream",
     "text": [
      "{65: 'A', 66: 'B', 67: 'C', 68: 'D', 69: 'E', 70: 'F', 71: 'G', 72: 'H', 73: 'I', 74: 'J', 75: 'K', 76: 'L', 77: 'M', 78: 'N', 79: 'O', 80: 'P', 81: 'Q', 82: 'R', 83: 'S', 84: 'T', 85: 'U', 86: 'V', 87: 'W', 88: 'X', 89: 'Y', 90: 'Z', 91: '['}\n",
      "A\n",
      "B\n",
      "C\n",
      "D\n"
     ]
    }
   ],
   "source": [
    "mydict={}\n",
    "for i in range(65,92):\n",
    "   mydict[i]=chr(i)\n",
    "print(mydict)\n",
    "data=\"abcd\"\n",
    "for char in data:\n",
    "    x=ord(char)-32\n",
    "    if(x in mydict):\n",
    "        print(mydict[x])\n",
    "\n"
   ]
  },
  {
   "cell_type": "code",
   "execution_count": 32,
   "id": "e1285228-7e51-42bc-9f86-03f4c13e1880",
   "metadata": {},
   "outputs": [
    {
     "name": "stdout",
     "output_type": "stream",
     "text": [
      "(10, 30)\n",
      "(40, 56)\n"
     ]
    }
   ],
   "source": [
    "#set--unique value\n",
    "#mutable\n",
    "myset=[10,40]\n",
    "myset1=[30,56]\n",
    "for i in zip(myset,myset1):\n",
    "    print(i)"
   ]
  },
  {
   "cell_type": "code",
   "execution_count": 1,
   "id": "5d701538-7221-4877-a20c-9614144f9619",
   "metadata": {},
   "outputs": [
    {
     "name": "stdout",
     "output_type": "stream",
     "text": [
      "10\n",
      "20\n"
     ]
    }
   ],
   "source": [
    "myvalue={10:\"ak\",20:\"akshayswm\"}\n",
    "for i in myvalue.keys():\n",
    "    print(i)"
   ]
  },
  {
   "cell_type": "code",
   "execution_count": 4,
   "id": "0bb4d1c3-c6e0-4150-9025-e2bb6a87ff7c",
   "metadata": {},
   "outputs": [
    {
     "ename": "SyntaxError",
     "evalue": "invalid syntax (4209605735.py, line 11)",
     "output_type": "error",
     "traceback": [
      "\u001b[1;36m  Cell \u001b[1;32mIn[4], line 11\u001b[1;36m\u001b[0m\n\u001b[1;33m    elif\u001b[0m\n\u001b[1;37m    ^\u001b[0m\n\u001b[1;31mSyntaxError\u001b[0m\u001b[1;31m:\u001b[0m invalid syntax\n"
     ]
    }
   ],
   "source": [
    "#valid paranthesis\n",
    "data=\"()\"\n",
    "mylist=[]\n",
    "x=False\n",
    "for char in data:\n",
    "    if char==\"(\" or char==\"{\":\n",
    "        mylist.append(char)\n",
    "    else:\n",
    "        if char==\")\" and \"(\" ==mylist.pop():\n",
    "            x=True\n",
    "    elif \n",
    "    char==\"}\" and \"{\" ==mylist.pop():\n",
    "        x==True\n",
    "    else:\n",
    "        x=False\n",
    "if(x==True):\n",
    "    print(\"vallid\")\n",
    "else:\n",
    "    print(\"invallid\")\n",
    "\n",
    " \n"
   ]
  },
  {
   "cell_type": "code",
   "execution_count": null,
   "id": "bd028870-3577-445c-940a-03f3ea7fee7c",
   "metadata": {},
   "outputs": [],
   "source": []
  }
 ],
 "metadata": {
  "kernelspec": {
   "display_name": "Python 3 (ipykernel)",
   "language": "python",
   "name": "python3"
  },
  "language_info": {
   "codemirror_mode": {
    "name": "ipython",
    "version": 3
   },
   "file_extension": ".py",
   "mimetype": "text/x-python",
   "name": "python",
   "nbconvert_exporter": "python",
   "pygments_lexer": "ipython3",
   "version": "3.13.2"
  }
 },
 "nbformat": 4,
 "nbformat_minor": 5
}
